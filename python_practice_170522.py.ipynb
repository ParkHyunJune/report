{
 "cells": [
  {
   "cell_type": "code",
   "execution_count": 44,
   "metadata": {},
   "outputs": [
    {
     "name": "stdout",
     "output_type": "stream",
     "text": [
      "0\n",
      "7\n",
      "5\n",
      "[9, 1, 6, 8, 4, 3, 2, 7]\n",
      "None\n"
     ]
    },
    {
     "data": {
      "text/plain": [
       "int"
      ]
     },
     "execution_count": 44,
     "metadata": {},
     "output_type": "execute_result"
    }
   ],
   "source": [
    "a_list=[9, 1, 6, 8, 4, 3, 2, 0, 5, 7]\n",
    "k=min(a_list)\n",
    "print(k)\n",
    "t=a_list.index(k)\n",
    "print(t)\n",
    "\n",
    "a_list.pop(t)\n",
    "print(a_list.pop(t))\n",
    "print(a_list)\n",
    "\n",
    "kk=a_list.insert(0,k)\n",
    "print(kk)\n",
    "type(kk)\n",
    "type(a_list.pop(t))"
   ]
  },
  {
   "cell_type": "code",
   "execution_count": 115,
   "metadata": {},
   "outputs": [
    {
     "name": "stdout",
     "output_type": "stream",
     "text": [
      "9\n"
     ]
    }
   ],
   "source": [
    "a_list=[9, 1, 6, 8, 4, 3, 2, 0, 5, 7]\n",
    "print(a_list.pop(min(a_list)))"
   ]
  },
  {
   "cell_type": "code",
   "execution_count": 72,
   "metadata": {},
   "outputs": [
    {
     "name": "stdout",
     "output_type": "stream",
     "text": [
      "0\n",
      "7\n",
      "[0]\n"
     ]
    }
   ],
   "source": [
    "a_list=[9, 1, 6, 8, 4, 3, 2, 0, 5, 7]\n",
    "b=[]\n",
    "print(min(a_list))\n",
    "print(a_list.index(min(a_list)))\n",
    "#print(a_list.pop(a_list.index(min(a_list))))\n",
    "#print(a_list)\n",
    "#a_list.insert(0,a_list.pop(a_list.index(min(a_list))))\n",
    "#print(a_list)\n",
    "\n",
    "b.insert(0,a_list.pop(a_list.index(min(a_list))))\n",
    "print(b)"
   ]
  },
  {
   "cell_type": "code",
   "execution_count": 158,
   "metadata": {},
   "outputs": [
    {
     "name": "stdout",
     "output_type": "stream",
     "text": [
      "[0, 1, 2, 3, 4, 5, 6, 7, 8, 9]\n"
     ]
    }
   ],
   "source": [
    "a_list=[9, 1, 6, 8, 4, 3, 2, 0, 5, 7]\n",
    "i=0\n",
    "b=[]\n",
    "if i < len(a_list):\n",
    "    for i in range(len(a_list)):\n",
    "        b.insert(i,a_list.pop(a_list.index(min(a_list))))\n",
    "        i+=1\n",
    "    else:\n",
    "        a_list=b\n",
    "print(a_list)"
   ]
  },
  {
   "cell_type": "code",
   "execution_count": 144,
   "metadata": {},
   "outputs": [
    {
     "name": "stdout",
     "output_type": "stream",
     "text": [
      "[0, 1, 2, 3, 4, 5, 6, 7, 8, 9]\n"
     ]
    }
   ],
   "source": [
    "a_list=[9, 1, 6, 8, 4, 3, 2, 0, 5, 7]\n",
    "\n",
    "for n in range(len(a_list)):\n",
    "    if a_list[n] != min(a_list[n:]):\n",
    "        a_list.insert(n,a_list.pop(a_list.index(min(a_list[n:]))))\n",
    "print(a_list)"
   ]
  },
  {
   "cell_type": "code",
   "execution_count": 146,
   "metadata": {},
   "outputs": [
    {
     "name": "stdout",
     "output_type": "stream",
     "text": [
      "[0, 1, 2, 3, 4, 5, 6, 7, 8, 9]\n"
     ]
    }
   ],
   "source": [
    "a_list=[1,2,5,6,7,0,9,3,4,8]\n",
    "def sort_list():\n",
    "    for n in range(len(a_list)):\n",
    "        if a_list[n] != min(a_list[n:]):\n",
    "            a_list.insert(n,a_list.pop(a_list.index(min(a_list[n:]))))\n",
    "    print(a_list)\n",
    "    \n",
    "sort_list()"
   ]
  },
  {
   "cell_type": "code",
   "execution_count": 21,
   "metadata": {},
   "outputs": [
    {
     "name": "stdout",
     "output_type": "stream",
     "text": [
      "1 번째 loop입니다.\n",
      "1 번째 loop내부에서 리스트의 1 번째 요소를 비교하는 loop입니다.\n",
      "2 번째 loop입니다.\n",
      "2 번째 loop내부에서 리스트의 2 번째 요소를 비교하는 loop입니다.\n",
      "3 번째 loop입니다.\n",
      "3 번째 loop내부에서 리스트의 3 번째 요소를 비교하는 loop입니다.\n",
      "4 번째 loop내부에서 리스트의 4 번째 요소를 비교하는 loop입니다.\n",
      "5 번째 loop내부에서 리스트의 5 번째 요소를 비교하는 loop입니다.\n",
      "6 번째 loop내부에서 리스트의 6 번째 요소를 비교하는 loop입니다.\n",
      "[1, 2, 3, 5, 7, 9]\n"
     ]
    }
   ],
   "source": [
    "the_list=[5,1,3,7,2,9]\n",
    "def sorted_list():\n",
    "    for n in range(len(the_list)):\n",
    "        if the_list[n] != min(the_list[n:]):\n",
    "            the_list.insert(n,the_list.pop(the_list.index(min(the_list[n:]))))\n",
    "            print(n+1,'번째 loop입니다.')\n",
    "        print(n+1,'번째 loop내부에서 리스트의' ,n+1,'번째 요소를 비교하는 loop입니다.')\n",
    "    \n",
    "sorted_list()\n",
    "print(the_list)"
   ]
  },
  {
   "cell_type": "code",
   "execution_count": 65,
   "metadata": {},
   "outputs": [
    {
     "ename": "SyntaxError",
     "evalue": "invalid syntax (<ipython-input-65-c3447c8fba22>, line 10)",
     "output_type": "error",
     "traceback": [
      "\u001b[0;36m  File \u001b[0;32m\"<ipython-input-65-c3447c8fba22>\"\u001b[0;36m, line \u001b[0;32m10\u001b[0m\n\u001b[0;31m    else:\u001b[0m\n\u001b[0m       ^\u001b[0m\n\u001b[0;31mSyntaxError\u001b[0m\u001b[0;31m:\u001b[0m invalid syntax\n"
     ]
    }
   ],
   "source": [
    "sample_list=[5,1,3,7,2,9]\n",
    "def selection_sort(ori_list):\n",
    "    ori_len=len(ori_list)\n",
    "    for i in range(ori_len -1):\n",
    "        print('{}번째 loop 입니다.'.format(i+1))\n",
    "        for j in range(i,ori_len -i):\n",
    "            print('{}번째 loop내부의 {}번째 요소를 비교중'.format(i+1,j+1))\n",
    "            if sample_list[i] < sample_list[i+1]:\n",
    "                print('현재 최소값은{} index는{}'.format(sample_list[i] ,i)\n",
    "            else:\n",
    "                min_index = sample_list[i+1]\n",
    "                print('현재 최소값이 변경되었습니다. 최소값은 {} index는{}'.format(samplei+1),i+1)\n",
    "                      \n",
    "selection_sort(sample_list)\n",
    "print(sample_list)"
   ]
  },
  {
   "cell_type": "code",
   "execution_count": 68,
   "metadata": {},
   "outputs": [
    {
     "name": "stdout",
     "output_type": "stream",
     "text": [
      "1번째 loop 입니다.\n",
      "현재 최소값은5, 인덱스는1\n",
      "   2번째 index의 1값이 기존값보다 작음\n",
      "앞서 실행 값이 최소값입니다.\n",
      "앞서 실행 값이 최소값입니다.\n",
      "앞서 실행 값이 최소값입니다.\n",
      "앞서 실행 값이 최소값입니다.\n",
      "2번째 loop 입니다.\n",
      "현재 최소값은1, 인덱스는2\n",
      "앞서 실행 값이 최소값입니다.\n",
      "앞서 실행 값이 최소값입니다.\n",
      "앞서 실행 값이 최소값입니다.\n",
      "앞서 실행 값이 최소값입니다.\n",
      "3번째 loop 입니다.\n",
      "현재 최소값은3, 인덱스는3\n",
      "앞서 실행 값이 최소값입니다.\n",
      "   5번째 index의 2값이 기존값보다 작음\n",
      "앞서 실행 값이 최소값입니다.\n",
      "4번째 loop 입니다.\n",
      "현재 최소값은7, 인덱스는4\n",
      "   5번째 index의 2값이 기존값보다 작음\n",
      "앞서 실행 값이 최소값입니다.\n",
      "5번째 loop 입니다.\n",
      "현재 최소값은2, 인덱스는5\n",
      "앞서 실행 값이 최소값입니다.\n",
      "[5, 1, 3, 7, 2, 9]\n"
     ]
    }
   ],
   "source": [
    "cur_list=[5,1,3,7,2,9]\n",
    "def selection_sort(ori_list):\n",
    "    ori_len=len(ori_list)\n",
    "    for i in range(ori_len -1):\n",
    "        print('{}번째 loop 입니다.'.format(i+1))\n",
    "        cur_min_index=i\n",
    "        \n",
    "        print('현재 최소값은{}, 인덱스는{}'.format(cur_list[cur_min_index],cur_min_index +1))\n",
    "            \n",
    "        for j in range(i+1,ori_len):\n",
    "            if ori_list[cur_min_index] > ori_list[j]:\n",
    "                cur_min_index=j\n",
    "                print('   {}번째 index의 {}값이 기존값보다 작음'.format(cur_min_index+1, ori_list[cur_min_index]))\n",
    "            else:\n",
    "                print('앞서 실행 값이 최소값입니다.')\n",
    "selection_sort(cur_list)\n",
    "print(cur_list)"
   ]
  },
  {
   "cell_type": "code",
   "execution_count": 71,
   "metadata": {},
   "outputs": [
    {
     "name": "stdout",
     "output_type": "stream",
     "text": [
      "1번째 loop 입니다.\n",
      "현재 최소값은5, 인덱스는1\n",
      "   2번째 index의 1값이 기존값보다 작음\n",
      "   3번째 index의 3값이 기존값보다 작음\n",
      "   4번째 index의 3값이 기존값보다 작음\n",
      "   5번째 index의 2값이 기존값보다 작음\n",
      "2번째 loop 입니다.\n",
      "현재 최소값은3, 인덱스는2\n",
      "   5번째 index의 2값이 기존값보다 작음\n",
      "3번째 loop 입니다.\n",
      "현재 최소값은3, 인덱스는3\n",
      "   5번째 index의 2값이 기존값보다 작음\n",
      "4번째 loop 입니다.\n",
      "현재 최소값은5, 인덱스는4\n",
      "   5번째 index의 2값이 기존값보다 작음\n",
      "5번째 loop 입니다.\n",
      "현재 최소값은2, 인덱스는5\n",
      "[1, 7, 5, 3, 2, 9]\n"
     ]
    }
   ],
   "source": [
    "cur_list=[5,1,3,7,2,9]\n",
    "def selection_sort(ori_list):\n",
    "    ori_len=len(ori_list)\n",
    "    for i in range(ori_len -1):\n",
    "        print('{}번째 loop 입니다.'.format(i+1))\n",
    "        cur_min_index=i\n",
    "        print('현재 최소값은{}, 인덱스는{}'.format(cur_list[cur_min_index],cur_min_index +1))\n",
    "        \n",
    "        for j in range(i+1,ori_len):\n",
    "            if ori_list[cur_min_index] > ori_list[j]:\n",
    "                cur_min_index=j\n",
    "                print('   {}번째 index의 {}값이 기존값보다 작음'.format(cur_min_index+1, ori_list[cur_min_index]))\n",
    "                cur_list.insert(i,cur_list.pop(cur_list[cur_min_index]))\n",
    "            else:\n",
    "        ori_list[i]=ori        \n",
    "selection_sort(cur_list)\n",
    "print(cur_list)"
   ]
  },
  {
   "cell_type": "code",
   "execution_count": 81,
   "metadata": {},
   "outputs": [
    {
     "name": "stdout",
     "output_type": "stream",
     "text": [
      "1번째 loop 입니다.\n",
      "현재 최소값은1, 인덱스는1\n",
      "   2번째 index의 1값이 기존값보다 작음\n",
      "1번째 loop결과:[1, 5, 3, 7, 2, 9]\n",
      "2번째 loop 입니다.\n",
      "현재 최소값은7, 인덱스는2\n",
      "   3번째 index의 3값이 기존값보다 작음\n",
      "   5번째 index의 2값이 기존값보다 작음\n",
      "2번째 loop결과:[1, 2, 3, 7, 5, 9]\n",
      "3번째 loop 입니다.\n",
      "현재 최소값은5, 인덱스는3\n",
      "3번째 loop결과:[1, 2, 3, 7, 5, 9]\n",
      "4번째 loop 입니다.\n",
      "현재 최소값은3, 인덱스는4\n",
      "   5번째 index의 5값이 기존값보다 작음\n",
      "4번째 loop결과:[1, 2, 3, 5, 7, 9]\n",
      "5번째 loop 입니다.\n",
      "현재 최소값은2, 인덱스는5\n",
      "5번째 loop결과:[1, 2, 3, 5, 7, 9]\n"
     ]
    }
   ],
   "source": [
    "sample_list=[5,1,3,7,2,9]\n",
    "def selection_sort(ori_list):\n",
    "    ori_len=len(ori_list)\n",
    "    for i in range(ori_len -1):\n",
    "        print('{}번째 loop 입니다.'.format(i+1))\n",
    "        cur_min_index=i\n",
    "        print('현재 최소값은{}, 인덱스는{}'.format(cur_list[cur_min_index],cur_min_index +1)) \n",
    "        for j in range(i+1,ori_len):\n",
    "            if ori_list[cur_min_index] > ori_list[j]:\n",
    "                cur_min_index=j\n",
    "                print('   {}번째 index의 {}값이 기존값보다 작음'.format(cur_min_index+1, ori_list[cur_min_index]))\n",
    "        ori_list[i], ori_list[cur_min_index]= ori_list[cur_min_index],ori_list[i]\n",
    "        print('{}번째 loop결과:{}'.format(i+1,ori_list))\n",
    "selection_sort(sample_list)"
   ]
  },
  {
   "cell_type": "code",
   "execution_count": null,
   "metadata": {
    "collapsed": true
   },
   "outputs": [],
   "source": []
  }
 ],
 "metadata": {
  "kernelspec": {
   "display_name": "Python 3",
   "language": "python",
   "name": "python3"
  },
  "language_info": {
   "codemirror_mode": {
    "name": "ipython",
    "version": 3
   },
   "file_extension": ".py",
   "mimetype": "text/x-python",
   "name": "python",
   "nbconvert_exporter": "python",
   "pygments_lexer": "ipython3",
   "version": "3.5.3"
  }
 },
 "nbformat": 4,
 "nbformat_minor": 2
}
